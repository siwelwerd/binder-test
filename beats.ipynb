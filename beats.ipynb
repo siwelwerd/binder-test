{
 "cells": [
  {
   "cell_type": "markdown",
   "metadata": {},
   "source": []
  },
  {
   "cell_type": "code",
   "execution_count": 2,
   "metadata": {},
   "outputs": [],
   "source": [
    "#Preamble\n",
    "import pandas as pd\n",
    "#import geopandas as gpd\n",
    "import numpy as np\n",
    "import io\n",
    "\n",
    "import ipywidgets as widgets\n",
    "\n",
    "import matplotlib.pyplot as plt\n",
    "import seaborn as sns\n",
    "\n",
    "sns.set_style(\"whitegrid\")\n",
    "sns.set(rc={'figure.figsize':(11.7,8.27)})\n",
    "\n",
    "from pandas.plotting import scatter_matrix\n",
    "\n",
    "pd.options.display.max_rows = 100\n",
    "pd.options.display.max_columns = 100"
   ]
  },
  {
   "attachments": {},
   "cell_type": "markdown",
   "metadata": {},
   "source": [
    "#### Core Question: Are certain police beats policed more heavily?\n",
    "##### - Quantitative Question: How many arrests are there per police beat per year?"
   ]
  },
  {
   "attachments": {},
   "cell_type": "markdown",
   "metadata": {},
   "source": [
    "Upload a CSV file containing data on police encounters here. We assume each row is a unique encounter with police."
   ]
  },
  {
   "cell_type": "code",
   "execution_count": null,
   "metadata": {},
   "outputs": [],
   "source": [
    "outputWidget = widgets.Output(layout={'border': '1px solid black'})\n",
    "\n",
    "fileUpload1 = widgets.FileUpload()\n",
    "display(fileUpload1)\n",
    "\n",
    "outputWidget3 = widgets.Output(layout={'border': '1px solid black'})\n",
    "columnDropDown=widgets.Dropdown()\n",
    "columnDropDown2=widgets.Dropdown()\n",
    "def load_data():\n",
    "    global beats\n",
    "    #beats = pd.read_csv(io.BytesIO(fileUpload1.value[-1].content))\n",
    "    beats = pd.read_csv(\"/Users/drew/Downloads/with_beats.csv\")\n",
    "    global columnDropDown, columnDropDown2\n",
    "    columnDropDown.options=beats.columns\n",
    "    columnDropDown2.options=beats.columns\n",
    "    with outputWidget3:\n",
    "        display(columnDropDown)\n",
    "    \n",
    "    with outputWidget:\n",
    "        display(\"Successfully loaded the datafile \" + fileUpload1.value[-1].name )\n",
    "\n",
    "\n",
    "fileUpload1.observe(lambda b: load_data(), names='value')\n",
    "display(outputWidget)"
   ]
  },
  {
   "attachments": {},
   "cell_type": "markdown",
   "metadata": {},
   "source": [
    "Which column contains the identifier of the police beat?"
   ]
  },
  {
   "cell_type": "code",
   "execution_count": null,
   "metadata": {},
   "outputs": [],
   "source": [
    "display(outputWidget3)\n",
    "outputWidget4 = widgets.Output(layout={'border': '1px solid black'})\n",
    "outputWidget5 = widgets.Output(layout={'border': '1px solid black'})\n",
    "#For later use\n",
    "beatsDropDown = widgets.Dropdown()\n",
    "def columnDropDownChange():\n",
    "    beatsDropDown.options = beats.groupby(columnDropDown.value).groups.keys()\n",
    "    with outputWidget4:\n",
    "        display(beatsDropDown)\n",
    "    with outputWidget5:\n",
    "        display(columnDropDown2)\n",
    "    with outputWidget3:\n",
    "        beats[columnDropDown.value].value_counts().plot.bar()\n",
    "        plt.show()\n",
    "columnDropDown.observe(lambda b: columnDropDownChange(),names='value')"
   ]
  },
  {
   "attachments": {},
   "cell_type": "markdown",
   "metadata": {},
   "source": [
    "If any particular beat stood out as unusual, we should examine it further.\n",
    "Choose a beat:"
   ]
  },
  {
   "cell_type": "code",
   "execution_count": null,
   "metadata": {},
   "outputs": [],
   "source": [
    "display(outputWidget4)"
   ]
  },
  {
   "attachments": {},
   "cell_type": "markdown",
   "metadata": {},
   "source": [
    "Choose a categorical column of interest"
   ]
  },
  {
   "cell_type": "code",
   "execution_count": null,
   "metadata": {},
   "outputs": [],
   "source": [
    "\n",
    "display(outputWidget5)\n",
    "beat = pd.DataFrame()\n",
    "def beatChange():\n",
    "    global beat\n",
    "    beat=beats.loc[beats[columnDropDown.value]== beatsDropDown.value]\n",
    "    plotBeat()\n",
    "\n",
    "def plotBeat():\n",
    "    with outputWidget6:\n",
    "        if beat.empty:\n",
    "            display(\"Select a beat\")\n",
    "        elif not columnDropDown2.value:\n",
    "            display(\"Select a categorical column of interest\")\n",
    "        else:\n",
    "            plotTitle = \"Arrests by \" + str(columnDropDown2.value) + \" in Beat \" + str(beatsDropDown.value)\n",
    "            sns.countplot(data=beat, x=columnDropDown.value, hue=columnDropDown2.value).set(title=plotTitle)\n",
    "            plt.show()\n",
    "\n",
    "beatsDropDown.observe(lambda b: beatChange(), names='value')\n",
    "columnDropDown2.observe(lambda b: plotBeat(), names='value')\n",
    "\n",
    "outputWidget6 = widgets.Output(layout={'border': '1px solid black'})\n",
    "display(outputWidget6)"
   ]
  }
 ],
 "metadata": {
  "kernelspec": {
   "display_name": "Python 3",
   "language": "python",
   "name": "python3"
  },
  "language_info": {
   "codemirror_mode": {
    "name": "ipython",
    "version": 3
   },
   "file_extension": ".py",
   "mimetype": "text/x-python",
   "name": "python",
   "nbconvert_exporter": "python",
   "pygments_lexer": "ipython3",
   "version": "3.8.9"
  },
  "orig_nbformat": 4,
  "vscode": {
   "interpreter": {
    "hash": "31f2aee4e71d21fbe5cf8b01ff0e069b9275f58929596ceb00d14d90e3e16cd6"
   }
  }
 },
 "nbformat": 4,
 "nbformat_minor": 2
}
