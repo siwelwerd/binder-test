{
 "cells": [
  {
   "cell_type": "code",
   "execution_count": 1,
   "metadata": {},
   "outputs": [
    {
     "ename": "ModuleNotFoundError",
     "evalue": "No module named 'pandas'",
     "output_type": "error",
     "traceback": [
      "\u001b[0;31m---------------------------------------------------------------------------\u001b[0m",
      "\u001b[0;31mModuleNotFoundError\u001b[0m                       Traceback (most recent call last)",
      "Cell \u001b[0;32mIn[1], line 6\u001b[0m\n\u001b[1;32m      4\u001b[0m \u001b[38;5;28;01mimport\u001b[39;00m \u001b[38;5;21;01mio\u001b[39;00m\n\u001b[1;32m      5\u001b[0m \u001b[38;5;28;01mimport\u001b[39;00m \u001b[38;5;21;01mos\u001b[39;00m\n\u001b[0;32m----> 6\u001b[0m \u001b[38;5;28;01mimport\u001b[39;00m \u001b[38;5;21;01mpandas\u001b[39;00m \u001b[38;5;28;01mas\u001b[39;00m \u001b[38;5;21;01mpd\u001b[39;00m\n\u001b[1;32m      7\u001b[0m \u001b[38;5;28;01mimport\u001b[39;00m \u001b[38;5;21;01mrequests\u001b[39;00m\n\u001b[1;32m      8\u001b[0m \u001b[38;5;28;01mfrom\u001b[39;00m \u001b[38;5;21;01mIPython\u001b[39;00m\u001b[38;5;21;01m.\u001b[39;00m\u001b[38;5;21;01mdisplay\u001b[39;00m \u001b[38;5;28;01mimport\u001b[39;00m Javascript\n",
      "\u001b[0;31mModuleNotFoundError\u001b[0m: No module named 'pandas'"
     ]
    }
   ],
   "source": [
    "#Preamble\n",
    "\n",
    "import ipywidgets as widgets\n",
    "import io\n",
    "import os\n",
    "import pandas as pd\n",
    "import requests\n",
    "from IPython.display import Javascript\n",
    "\n",
    "pd.set_option(\"display.max_columns\", 500)\n",
    "pd.set_option(\"display.max_rows\", 500)\n",
    "\n",
    "data_loaded=False\n",
    "\n"
   ]
  },
  {
   "cell_type": "markdown",
   "metadata": {},
   "source": [
    "# **Sample Analysis**\n",
    "### Introduction\n",
    "Add some instructions here"
   ]
  },
  {
   "cell_type": "markdown",
   "metadata": {},
   "source": [
    "### **Step #0:** Lets get some census data to compare to\n",
    "\n",
    "To get started, you need a Census API key (see instructions)."
   ]
  },
  {
   "cell_type": "code",
   "execution_count": 14,
   "metadata": {},
   "outputs": [
    {
     "data": {
      "application/vnd.jupyter.widget-view+json": {
       "model_id": "0bd13201c1a74d0187e670ea9b966fab",
       "version_major": 2,
       "version_minor": 0
      },
      "text/plain": [
       "FileUpload(value=(), description='Upload')"
      ]
     },
     "metadata": {},
     "output_type": "display_data"
    },
    {
     "data": {
      "application/vnd.jupyter.widget-view+json": {
       "model_id": "39d1364ea201447999dc92ec6bb30694",
       "version_major": 2,
       "version_minor": 0
      },
      "text/plain": [
       "Button(description='Load data file', style=ButtonStyle())"
      ]
     },
     "metadata": {},
     "output_type": "display_data"
    },
    {
     "data": {
      "application/vnd.jupyter.widget-view+json": {
       "model_id": "d2067d7b229045d78a2c7539842a6d4e",
       "version_major": 2,
       "version_minor": 0
      },
      "text/plain": [
       "Output(layout=Layout(border_bottom='1px solid black', border_left='1px solid black', border_right='1px solid b…"
      ]
     },
     "metadata": {},
     "output_type": "display_data"
    }
   ],
   "source": [
    "outputWidget0 = widgets.Output(layout={'border': '1px solid black'})\n",
    "\n",
    "#File upload\n",
    "global raceCSVUpload\n",
    "raceCSVUpload = widgets.FileUpload()\n",
    "\n",
    "display(raceCSVUpload)\n",
    "\n",
    "loadButton0 = widgets.Button(\n",
    "    description='Load data file',\n",
    ")\n",
    "def loadRaceCSV():\n",
    "    with outputWidget0:\n",
    "        global townRaceData\n",
    "        display(raceCSVUpload.value)\n",
    "        townRaceData = pd.read_csv(io.BytesIO(raceCSVUpload.value[0].content))\n",
    "        display(\"Success\")\n",
    "\n",
    "loadButton0.on_click(lambda b: loadRaceCSV())\n",
    "display(loadButton0,outputWidget0)"
   ]
  },
  {
   "cell_type": "code",
   "execution_count": null,
   "metadata": {},
   "outputs": [],
   "source": []
  },
  {
   "cell_type": "markdown",
   "metadata": {},
   "source": [
    "### **Step #1:** Load the police data"
   ]
  },
  {
   "cell_type": "markdown",
   "metadata": {},
   "source": [
    "Select your police datafile from the dropdown, and then press load.\n",
    "You may need to upload your datafile to the \"data\" directory on the left."
   ]
  },
  {
   "cell_type": "code",
   "execution_count": 36,
   "metadata": {},
   "outputs": [
    {
     "data": {
      "application/vnd.jupyter.widget-view+json": {
       "model_id": "5c47065025d7449ba479e5600476db3e",
       "version_major": 2,
       "version_minor": 0
      },
      "text/plain": [
       "Dropdown(options=('arrests_charges.csv',), value='arrests_charges.csv')"
      ]
     },
     "metadata": {},
     "output_type": "display_data"
    },
    {
     "data": {
      "application/vnd.jupyter.widget-view+json": {
       "model_id": "34a8ada2e2fa48ceab380012413bb053",
       "version_major": 2,
       "version_minor": 0
      },
      "text/plain": [
       "Button(description='Load data file', style=ButtonStyle())"
      ]
     },
     "metadata": {},
     "output_type": "display_data"
    },
    {
     "data": {
      "application/vnd.jupyter.widget-view+json": {
       "model_id": "b64bf287f6a34e6b84e496e2bac40f75",
       "version_major": 2,
       "version_minor": 0
      },
      "text/plain": [
       "Output(layout=Layout(border_bottom='1px solid black', border_left='1px solid black', border_right='1px solid b…"
      ]
     },
     "metadata": {},
     "output_type": "display_data"
    }
   ],
   "source": [
    "outputWidget = widgets.Output(layout={'border': '1px solid black'})\n",
    "\n",
    "fileSelect = widgets.Dropdown(\n",
    "    options= os.listdir('data/'),\n",
    "    disabled=False\n",
    ")\n",
    "display(fileSelect)\n",
    "loadButton = widgets.Button(\n",
    "    description='Load data file',\n",
    ")\n",
    "def load_data():\n",
    "    global arrests\n",
    "    arrests = pd.read_csv(os.path.join(\"data/\",fileSelect.value),index_col=[0])\n",
    "    global data_loaded\n",
    "    data_loaded=True\n",
    "    display(Javascript('IPython.notebook.execute_cells_below()'))\n",
    "    with outputWidget:\n",
    "        display(\"Successfully loaded the datafile \" + fileSelect.value )\n",
    "\n",
    "loadButton.on_click(lambda b: load_data())\n",
    "display(loadButton,outputWidget)"
   ]
  },
  {
   "cell_type": "markdown",
   "metadata": {},
   "source": [
    "Let's take a quick look at the data.  Select how many rows you would like to preview, then press the 'Preview' button."
   ]
  },
  {
   "cell_type": "code",
   "execution_count": 13,
   "metadata": {},
   "outputs": [
    {
     "data": {
      "application/vnd.jupyter.widget-view+json": {
       "model_id": "96f0dc02eb5a496993319c22ee19bbb5",
       "version_major": 2,
       "version_minor": 0
      },
      "text/plain": [
       "Dropdown(description='Number:', options=('5', '10', '15', '20'), value='5')"
      ]
     },
     "metadata": {},
     "output_type": "display_data"
    },
    {
     "data": {
      "application/vnd.jupyter.widget-view+json": {
       "model_id": "642c9de119d44ce2bd129cf0f5e3cb3b",
       "version_major": 2,
       "version_minor": 0
      },
      "text/plain": [
       "Button(description='Preview', style=ButtonStyle())"
      ]
     },
     "metadata": {},
     "output_type": "display_data"
    },
    {
     "data": {
      "application/vnd.jupyter.widget-view+json": {
       "model_id": "feb97d69562149268475e7943b3844bf",
       "version_major": 2,
       "version_minor": 0
      },
      "text/plain": [
       "Output(layout=Layout(border_bottom='1px solid black', border_left='1px solid black', border_right='1px solid b…"
      ]
     },
     "metadata": {},
     "output_type": "display_data"
    }
   ],
   "source": [
    "outputWidget2 = widgets.Output(layout={'border': '1px solid black'})\n",
    "# Take a first look:\n",
    "pd.set_option(\"display.max_rows\", None)\n",
    "numRows = widgets.Dropdown(\n",
    "    options=['5', '10', '15', '20'],\n",
    "    value='5',\n",
    "    description='Number:',\n",
    "    disabled=False,\n",
    ")\n",
    "display(numRows)\n",
    "previewButton = widgets.Button(\n",
    "    description='Preview',\n",
    ")\n",
    "def preview_data():\n",
    "    outputWidget2.clear_output()\n",
    "    with outputWidget2:\n",
    "        display(arrests.sample(int(numRows.value)))\n",
    "\n",
    "previewButton.on_click(lambda b: preview_data())\n",
    "display(previewButton,outputWidget2)"
   ]
  },
  {
   "cell_type": "markdown",
   "metadata": {},
   "source": [
    "### **Step #2:** Which type of data do we have?\n",
    "Typically, police records inform of interactions between the police and a civilian. The first step in measuring the quality of your dataset is finding out which type of data you have. \n",
    "As you understand the types of fields you have, define the unit of observation. Think of what does one row in your table represent.<br>\n",
    "In this example, one row is one police charge. However, there is a hiwerarchy. All charge to the same person on one police interaction are under the same \"case\" which is identifiable by an \"arrest number\". Keep in mind this hierarchy is important to understand how police interacts with individual people. "
   ]
  },
  {
   "cell_type": "code",
   "execution_count": 21,
   "metadata": {},
   "outputs": [
    {
     "data": {
      "application/vnd.jupyter.widget-view+json": {
       "model_id": "1447fb32347641d68d99e1136d8a5221",
       "version_major": 2,
       "version_minor": 0
      },
      "text/plain": [
       "Button(description='Display column names', layout=Layout(height='40px', width='auto'), style=ButtonStyle())"
      ]
     },
     "metadata": {},
     "output_type": "display_data"
    },
    {
     "data": {
      "application/vnd.jupyter.widget-view+json": {
       "model_id": "630a3b1d6adf4025a0c40c529e7e5f00",
       "version_major": 2,
       "version_minor": 0
      },
      "text/plain": [
       "Output(layout=Layout(border_bottom='1px solid black', border_left='1px solid black', border_right='1px solid b…"
      ]
     },
     "metadata": {},
     "output_type": "display_data"
    }
   ],
   "source": [
    "outputWidget3 = widgets.Output(layout={'border': '1px solid black'})\n",
    "layout = widgets.Layout(width='auto', height='40px') #set width and height\n",
    "columnsButton = widgets.Button(\n",
    "    description='Display column names',\n",
    "    layout=layout,\n",
    ")\n",
    "def displayColumns():\n",
    "    with outputWidget3:\n",
    "        display(arrests.columns)\n",
    "\n",
    "columnsButton.on_click(lambda b: displayColumns())\n",
    "display(columnsButton,outputWidget3)\n",
    "\n"
   ]
  },
  {
   "cell_type": "markdown",
   "metadata": {},
   "source": [
    "Which of these columns represents a demographic category of interest, like race?"
   ]
  },
  {
   "cell_type": "code",
   "execution_count": 23,
   "metadata": {},
   "outputs": [
    {
     "data": {
      "application/vnd.jupyter.widget-view+json": {
       "model_id": "c556a3f5f2a443a89214ad0b4ea8e1cd",
       "version_major": 2,
       "version_minor": 0
      },
      "text/plain": [
       "Dropdown(options=('agencyname', 'datetimeofarrest', 'file', 'arrestnumber', 'scars_tattoes_bodymarkings_etc', …"
      ]
     },
     "metadata": {},
     "output_type": "display_data"
    }
   ],
   "source": [
    "if data_loaded:\n",
    "    outputWidget4 = widgets.Output(layout={'border': '1px solid black'})\n",
    "    raceDropDown = widgets.Dropdown(\n",
    "        options=arrests.columns,\n",
    "        disabled=False,\n",
    "    )\n",
    "    def displayRaceDropdown():\n",
    "        with outputWidget4:\n",
    "            display(raceDropDown)\n",
    "\n",
    "    columnsButton.on_click(lambda b: displayColumns())\n",
    "    display(columnsButton,outputWidget4)\n",
    "    display(raceDropDown)\n"
   ]
  },
  {
   "cell_type": "markdown",
   "metadata": {},
   "source": [
    "Which of these columns represents a numerical value of police interactions?"
   ]
  },
  {
   "cell_type": "code",
   "execution_count": 24,
   "metadata": {},
   "outputs": [
    {
     "data": {
      "application/vnd.jupyter.widget-view+json": {
       "model_id": "c2588fef2550437cb90cda29b73d1f9e",
       "version_major": 2,
       "version_minor": 0
      },
      "text/plain": [
       "Dropdown(options=('agencyname', 'datetimeofarrest', 'file', 'arrestnumber', 'scars_tattoes_bodymarkings_etc', …"
      ]
     },
     "metadata": {},
     "output_type": "display_data"
    }
   ],
   "source": [
    "if data_loaded:\n",
    "    numericalDropdown = widgets.Dropdown(\n",
    "        options=arrests.columns,\n",
    "        disabled=False,\n",
    "    )\n",
    "    display(numericalDropdown)"
   ]
  },
  {
   "cell_type": "code",
   "execution_count": 28,
   "metadata": {},
   "outputs": [
    {
     "data": {
      "text/plain": [
       "race\n",
       "A    1.090909\n",
       "B    1.081053\n",
       "I    1.450980\n",
       "U    1.018868\n",
       "W    1.057388\n",
       "Name: charge_counts, dtype: float64"
      ]
     },
     "metadata": {},
     "output_type": "display_data"
    }
   ],
   "source": [
    "if data_loaded:\n",
    "    display(arrests.groupby([raceDropDown.value])[numericalDropdown.value].mean())"
   ]
  },
  {
   "cell_type": "code",
   "execution_count": null,
   "metadata": {},
   "outputs": [
    {
     "data": {
      "text/html": [
       "<div>\n",
       "<style scoped>\n",
       "    .dataframe tbody tr th:only-of-type {\n",
       "        vertical-align: middle;\n",
       "    }\n",
       "\n",
       "    .dataframe tbody tr th {\n",
       "        vertical-align: top;\n",
       "    }\n",
       "\n",
       "    .dataframe thead th {\n",
       "        text-align: right;\n",
       "    }\n",
       "</style>\n",
       "<table border=\"1\" class=\"dataframe\">\n",
       "  <thead>\n",
       "    <tr style=\"text-align: right;\">\n",
       "      <th>sex</th>\n",
       "      <th>F</th>\n",
       "      <th>M</th>\n",
       "    </tr>\n",
       "    <tr>\n",
       "      <th>charge_type</th>\n",
       "      <th></th>\n",
       "      <th></th>\n",
       "    </tr>\n",
       "  </thead>\n",
       "  <tbody>\n",
       "    <tr>\n",
       "      <th>Fel</th>\n",
       "      <td>1948</td>\n",
       "      <td>6861</td>\n",
       "    </tr>\n",
       "    <tr>\n",
       "      <th>Misd</th>\n",
       "      <td>4260</td>\n",
       "      <td>14457</td>\n",
       "    </tr>\n",
       "  </tbody>\n",
       "</table>\n",
       "</div>"
      ],
      "text/plain": [
       "sex             F      M\n",
       "charge_type             \n",
       "Fel          1948   6861\n",
       "Misd         4260  14457"
      ]
     },
     "execution_count": 102,
     "metadata": {},
     "output_type": "execute_result"
    }
   ],
   "source": [
    "#pd.crosstab(index=arrests['charge_type'], columns=arrests['sex'])"
   ]
  }
 ],
 "metadata": {
  "kernelspec": {
   "display_name": "Python 3 (ipykernel)",
   "language": "python",
   "name": "python3"
  },
  "language_info": {
   "codemirror_mode": {
    "name": "ipython",
    "version": 3
   },
   "file_extension": ".py",
   "mimetype": "text/x-python",
   "name": "python",
   "nbconvert_exporter": "python",
   "pygments_lexer": "ipython3",
   "version": "3.9.12"
  },
  "vscode": {
   "interpreter": {
    "hash": "31f2aee4e71d21fbe5cf8b01ff0e069b9275f58929596ceb00d14d90e3e16cd6"
   }
  }
 },
 "nbformat": 4,
 "nbformat_minor": 2
}
