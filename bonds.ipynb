{
 "cells": [
  {
   "cell_type": "markdown",
   "metadata": {},
   "source": []
  },
  {
   "cell_type": "code",
   "execution_count": 2,
   "metadata": {},
   "outputs": [],
   "source": [
    "#Preamble\n",
    "import pandas as pd\n",
    "#import geopandas as gpd\n",
    "import numpy as np\n",
    "import io\n",
    "\n",
    "import ipywidgets as widgets\n",
    "\n",
    "import matplotlib.pyplot as plt\n",
    "import seaborn as sns\n",
    "\n",
    "sns.set_style(\"whitegrid\")\n",
    "sns.set(rc={'figure.figsize':(11.7,8.27)})\n",
    "\n",
    "from pandas.plotting import scatter_matrix\n",
    "\n",
    "pd.options.display.max_rows = 100\n",
    "pd.options.display.max_columns = 100"
   ]
  },
  {
   "attachments": {},
   "cell_type": "markdown",
   "metadata": {},
   "source": [
    "#### Question 2: Persons of Color and Bond Amount Charges. \n",
    "##### -Quantitative Question: Do persons of color get charged a higher bond amount?"
   ]
  },
  {
   "attachments": {},
   "cell_type": "markdown",
   "metadata": {},
   "source": [
    "Upload a CSV file containing data on bonds here. We assume each row is a unique arrest."
   ]
  },
  {
   "cell_type": "code",
   "execution_count": null,
   "metadata": {},
   "outputs": [],
   "source": [
    "outputWidget = widgets.Output(layout={'border': '1px solid black'})\n",
    "\n",
    "fileUpload1 = widgets.FileUpload()\n",
    "display(fileUpload1)\n",
    "\n",
    "outputWidget3 = widgets.Output(layout={'border': '1px solid black'})\n",
    "columnDropDown=widgets.Dropdown()\n",
    "columnDropDown2=widgets.Dropdown()\n",
    "def load_data():\n",
    "    global bonds\n",
    "    bonds = pd.read_csv(io.BytesIO(fileUpload1.value[-1].content))\n",
    "    global columnDropDown, columnDropDown2\n",
    "    columnDropDown.options=bonds.columns\n",
    "    columnDropDown2.options=bonds.columns\n",
    "    with outputWidget3:\n",
    "        display(columnDropDown)\n",
    "    \n",
    "    with outputWidget:\n",
    "        display(\"Successfully loaded the datafile \" + fileUpload1.value[-1].name )\n",
    "\n",
    "\n",
    "fileUpload1.observe(lambda b: load_data(), names='value')\n",
    "display(outputWidget)"
   ]
  },
  {
   "attachments": {},
   "cell_type": "markdown",
   "metadata": {},
   "source": [
    "Which column contains the bond amounts?"
   ]
  },
  {
   "cell_type": "code",
   "execution_count": null,
   "metadata": {},
   "outputs": [],
   "source": [
    "display(outputWidget3)\n",
    "outputWidget4 = widgets.Output(layout={'border': '1px solid black'})\n",
    "outputWidget5 = widgets.Output(layout={'border': '1px solid black'})\n",
    "#For later use\n",
    "bondAmountDropDown = widgets.Dropdown()\n",
    "def columnDropDownChange():\n",
    "    with outputWidget5:\n",
    "        display(columnDropDown2)\n",
    "\n",
    "columnDropDown.observe(lambda b: columnDropDownChange(),names='value')"
   ]
  },
  {
   "attachments": {},
   "cell_type": "markdown",
   "metadata": {},
   "source": [
    "Choose a categorical column of interest"
   ]
  },
  {
   "cell_type": "code",
   "execution_count": null,
   "metadata": {},
   "outputs": [],
   "source": [
    "\n",
    "display(outputWidget5)\n",
    "\n",
    "def plotBonds():\n",
    "    with outputWidget6:\n",
    "        plotTitle = \"Average ond amounts by \" + str(columnDropDown2.value) \n",
    "        bonds.groupby(columnDropDown2.value)[columnDropDown.value].means().plot.bar()\n",
    "        #sns.countplot(data=bonds, x=columnDropDown.value, hue=columnDropDown2.value).set(title=plotTitle)\n",
    "        plt.show()\n",
    "\n",
    "columnDropDown2.observe(lambda b: plotBonds(), names='value')\n",
    "\n",
    "outputWidget6 = widgets.Output(layout={'border': '1px solid black'})\n",
    "display(outputWidget6)"
   ]
  }
 ],
 "metadata": {
  "kernelspec": {
   "display_name": "Python 3",
   "language": "python",
   "name": "python3"
  },
  "language_info": {
   "codemirror_mode": {
    "name": "ipython",
    "version": 3
   },
   "file_extension": ".py",
   "mimetype": "text/x-python",
   "name": "python",
   "nbconvert_exporter": "python",
   "pygments_lexer": "ipython3",
   "version": "3.8.9 (default, Apr 13 2022, 08:48:06) \n[Clang 13.1.6 (clang-1316.0.21.2.5)]"
  },
  "orig_nbformat": 4,
  "vscode": {
   "interpreter": {
    "hash": "31f2aee4e71d21fbe5cf8b01ff0e069b9275f58929596ceb00d14d90e3e16cd6"
   }
  }
 },
 "nbformat": 4,
 "nbformat_minor": 2
}
