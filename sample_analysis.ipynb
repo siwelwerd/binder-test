{
 "cells": [
  {
   "cell_type": "code",
   "execution_count": 1,
   "metadata": {},
   "outputs": [],
   "source": [
    "#Preamble\n",
    "\n",
    "import ipywidgets as widgets\n",
    "import io\n",
    "import os\n",
    "import pandas as pd\n",
    "import requests\n",
    "from IPython.display import Javascript\n",
    "\n",
    "pd.set_option(\"display.max_columns\", 500)\n",
    "pd.set_option(\"display.max_rows\", 500)\n",
    "\n",
    "\n"
   ]
  },
  {
   "cell_type": "markdown",
   "metadata": {},
   "source": [
    "# **Sample Analysis**\n",
    "### Introduction\n",
    "Add some instructions here"
   ]
  },
  {
   "attachments": {},
   "cell_type": "markdown",
   "metadata": {},
   "source": [
    "### **Step #0:** Lets get some census data to compare to\n",
    "\n",
    "Select the CSV with the census race data for your town, and press \"Load\""
   ]
  },
  {
   "cell_type": "code",
   "execution_count": 2,
   "metadata": {},
   "outputs": [
    {
     "data": {
      "application/vnd.jupyter.widget-view+json": {
       "model_id": "6202bc962a004ea9bd46ecfc8a361d5b",
       "version_major": 2,
       "version_minor": 0
      },
      "text/plain": [
       "Dropdown(options=('Durham_arrests_charges.csv', 'Durham_census_race_table.csv'), value='Durham_arrests_charges…"
      ]
     },
     "metadata": {},
     "output_type": "display_data"
    },
    {
     "data": {
      "application/vnd.jupyter.widget-view+json": {
       "model_id": "542051d129fe47eeae49d2a46d1b66e9",
       "version_major": 2,
       "version_minor": 0
      },
      "text/plain": [
       "Button(description='Load data file', style=ButtonStyle())"
      ]
     },
     "metadata": {},
     "output_type": "display_data"
    },
    {
     "data": {
      "application/vnd.jupyter.widget-view+json": {
       "model_id": "2eee049c0f594ec6b390932b7b74fb1b",
       "version_major": 2,
       "version_minor": 0
      },
      "text/plain": [
       "Output(layout=Layout(border_bottom='1px solid black', border_left='1px solid black', border_right='1px solid b…"
      ]
     },
     "metadata": {},
     "output_type": "display_data"
    }
   ],
   "source": [
    "outputWidget0 = widgets.Output(layout={'border': '1px solid black'})\n",
    "\n",
    "fileSelect0 = widgets.Dropdown(\n",
    "    options= os.listdir('data/'),\n",
    "    disabled=False\n",
    ")\n",
    "display(fileSelect0)\n",
    "loadButton0 = widgets.Button(\n",
    "    description='Load data file',\n",
    ")\n",
    "def load_data0():\n",
    "    global townRace\n",
    "    townRace = pd.read_csv(os.path.join(\"data/\",fileSelect0.value),index_col=[0])\n",
    "    townRace.columns=['Population']\n",
    "    townRace['Population']=townRace['Population'].apply(lambda s: s.replace(',',''))\n",
    "    townRace['Population']=townRace['Population'].astype('int')\n",
    "    totalTownPopulation = townRace.filter(like='Population of one race',axis='index').iloc[0,0]\n",
    "    townRace = townRace.filter(like='alone',axis='index')\n",
    "    townRace['Percentage']=townRace['Population']/totalTownPopulation\n",
    "    \n",
    "    with outputWidget0:\n",
    "        display(\"Successfully loaded the datafile \" + fileSelect0.value )\n",
    "        display(\"The total population of your town of a single race is \" + str(totalTownPopulation))\n",
    "        display(townRace)\n",
    "\n",
    "loadButton0.on_click(lambda b: load_data0())\n",
    "display(loadButton0,outputWidget0)\n",
    "\n"
   ]
  },
  {
   "cell_type": "markdown",
   "metadata": {},
   "source": [
    "### **Step #1:** Load the police data"
   ]
  },
  {
   "cell_type": "markdown",
   "metadata": {},
   "source": [
    "Select your police datafile from the dropdown, and then press load.\n",
    "You may need to upload your datafile to the \"data\" directory on the left."
   ]
  },
  {
   "cell_type": "code",
   "execution_count": 4,
   "metadata": {},
   "outputs": [
    {
     "data": {
      "application/vnd.jupyter.widget-view+json": {
       "model_id": "f970e1009f154bceadb88d2360bd8322",
       "version_major": 2,
       "version_minor": 0
      },
      "text/plain": [
       "Dropdown(options=('Durham_arrests_charges.csv', 'Durham_census_race_table.csv'), value='Durham_arrests_charges…"
      ]
     },
     "metadata": {},
     "output_type": "display_data"
    },
    {
     "data": {
      "application/vnd.jupyter.widget-view+json": {
       "model_id": "7a95e34186644a1d9e3cca05e401051b",
       "version_major": 2,
       "version_minor": 0
      },
      "text/plain": [
       "Button(description='Load data file', style=ButtonStyle())"
      ]
     },
     "metadata": {},
     "output_type": "display_data"
    },
    {
     "data": {
      "application/vnd.jupyter.widget-view+json": {
       "model_id": "650df4c2a3e64e8fad75579b472d7bdf",
       "version_major": 2,
       "version_minor": 0
      },
      "text/plain": [
       "Output(layout=Layout(border_bottom='1px solid black', border_left='1px solid black', border_right='1px solid b…"
      ]
     },
     "metadata": {},
     "output_type": "display_data"
    },
    {
     "data": {
      "application/javascript": "IPython.notebook.execute_cells_below()",
      "text/plain": [
       "<IPython.core.display.Javascript object>"
      ]
     },
     "metadata": {},
     "output_type": "display_data"
    }
   ],
   "source": [
    "outputWidget = widgets.Output(layout={'border': '1px solid black'})\n",
    "\n",
    "fileSelect = widgets.Dropdown(\n",
    "    options= os.listdir('data/'),\n",
    "    disabled=False\n",
    ")\n",
    "display(fileSelect)\n",
    "loadButton = widgets.Button(\n",
    "    description='Load data file',\n",
    ")\n",
    "def load_data():\n",
    "    global arrests\n",
    "    arrests = pd.read_csv(os.path.join(\"data/\",fileSelect.value),index_col=[0])\n",
    "    global data_loaded\n",
    "    data_loaded=True\n",
    "    display(Javascript('IPython.notebook.execute_cells_below()'))\n",
    "    with outputWidget:\n",
    "        display(\"Successfully loaded the datafile \" + fileSelect.value )\n",
    "\n",
    "loadButton.on_click(lambda b: load_data())\n",
    "display(loadButton,outputWidget)"
   ]
  },
  {
   "cell_type": "markdown",
   "metadata": {},
   "source": [
    "Let's take a quick look at the data.  Select how many rows you would like to preview, then press the 'Preview' button."
   ]
  },
  {
   "cell_type": "code",
   "execution_count": 5,
   "metadata": {},
   "outputs": [
    {
     "data": {
      "application/vnd.jupyter.widget-view+json": {
       "model_id": "3c1fbd89788142d396d9c121c4476c7e",
       "version_major": 2,
       "version_minor": 0
      },
      "text/plain": [
       "Dropdown(description='Number:', options=('5', '10', '15', '20'), value='5')"
      ]
     },
     "metadata": {},
     "output_type": "display_data"
    },
    {
     "data": {
      "application/vnd.jupyter.widget-view+json": {
       "model_id": "0b147f8300d246adb561cd2a6fd80231",
       "version_major": 2,
       "version_minor": 0
      },
      "text/plain": [
       "Button(description='Preview', style=ButtonStyle())"
      ]
     },
     "metadata": {},
     "output_type": "display_data"
    },
    {
     "data": {
      "application/vnd.jupyter.widget-view+json": {
       "model_id": "dddb8647513d44009a90be11b48bd884",
       "version_major": 2,
       "version_minor": 0
      },
      "text/plain": [
       "Output(layout=Layout(border_bottom='1px solid black', border_left='1px solid black', border_right='1px solid b…"
      ]
     },
     "metadata": {},
     "output_type": "display_data"
    }
   ],
   "source": [
    "outputWidget2 = widgets.Output(layout={'border': '1px solid black'})\n",
    "# Take a first look:\n",
    "pd.set_option(\"display.max_rows\", None)\n",
    "numRows = widgets.Dropdown(\n",
    "    options=['5', '10', '15', '20'],\n",
    "    value='5',\n",
    "    description='Number:',\n",
    "    disabled=False,\n",
    ")\n",
    "display(numRows)\n",
    "previewButton = widgets.Button(\n",
    "    description='Preview',\n",
    ")\n",
    "def preview_data():\n",
    "    outputWidget2.clear_output()\n",
    "    with outputWidget2:\n",
    "        display(arrests.sample(int(numRows.value)))\n",
    "\n",
    "previewButton.on_click(lambda b: preview_data())\n",
    "display(previewButton,outputWidget2)"
   ]
  },
  {
   "attachments": {},
   "cell_type": "markdown",
   "metadata": {},
   "source": [
    "### **Step #2:** Which type of data do we have"
   ]
  },
  {
   "cell_type": "code",
   "execution_count": 6,
   "metadata": {},
   "outputs": [
    {
     "data": {
      "application/vnd.jupyter.widget-view+json": {
       "model_id": "1c902fe9111940aa9f3b201091e9c775",
       "version_major": 2,
       "version_minor": 0
      },
      "text/plain": [
       "Button(description='Display column names', layout=Layout(height='40px', width='auto'), style=ButtonStyle())"
      ]
     },
     "metadata": {},
     "output_type": "display_data"
    },
    {
     "data": {
      "application/vnd.jupyter.widget-view+json": {
       "model_id": "a6b545a51ad24cfda40820d24aa560b0",
       "version_major": 2,
       "version_minor": 0
      },
      "text/plain": [
       "Output(layout=Layout(border_bottom='1px solid black', border_left='1px solid black', border_right='1px solid b…"
      ]
     },
     "metadata": {},
     "output_type": "display_data"
    }
   ],
   "source": [
    "outputWidget3 = widgets.Output(layout={'border': '1px solid black'})\n",
    "layout = widgets.Layout(width='auto', height='40px') #set width and height\n",
    "columnsButton = widgets.Button(\n",
    "    description='Display column names',\n",
    "    layout=layout,\n",
    ")\n",
    "def displayColumns():\n",
    "    with outputWidget3:\n",
    "        display(arrests.columns)\n",
    "\n",
    "columnsButton.on_click(lambda b: displayColumns())\n",
    "display(columnsButton,outputWidget3)\n",
    "\n"
   ]
  },
  {
   "cell_type": "markdown",
   "metadata": {},
   "source": [
    "Which of these columns represents a demographic category of interest, like race?"
   ]
  },
  {
   "cell_type": "code",
   "execution_count": 7,
   "metadata": {},
   "outputs": [
    {
     "data": {
      "application/vnd.jupyter.widget-view+json": {
       "model_id": "1c902fe9111940aa9f3b201091e9c775",
       "version_major": 2,
       "version_minor": 0
      },
      "text/plain": [
       "Button(description='Display column names', layout=Layout(height='40px', width='auto'), style=ButtonStyle())"
      ]
     },
     "metadata": {},
     "output_type": "display_data"
    },
    {
     "data": {
      "application/vnd.jupyter.widget-view+json": {
       "model_id": "d87cd995f3ce487a97353ebfe77c188b",
       "version_major": 2,
       "version_minor": 0
      },
      "text/plain": [
       "Output(layout=Layout(border_bottom='1px solid black', border_left='1px solid black', border_right='1px solid b…"
      ]
     },
     "metadata": {},
     "output_type": "display_data"
    },
    {
     "data": {
      "application/vnd.jupyter.widget-view+json": {
       "model_id": "a7fd2a55e9354c3daa64ae998a6f38f4",
       "version_major": 2,
       "version_minor": 0
      },
      "text/plain": [
       "Dropdown(options=('agencyname', 'datetimeofarrest', 'file', 'arrestnumber', 'scars_tattoes_bodymarkings_etc', …"
      ]
     },
     "metadata": {},
     "output_type": "display_data"
    }
   ],
   "source": [
    "outputWidget4 = widgets.Output(layout={'border': '1px solid black'})\n",
    "raceDropDown = widgets.Dropdown(\n",
    "    options=arrests.columns,\n",
    "    disabled=False,\n",
    ")\n",
    "def displayRaceDropdown():\n",
    "    with outputWidget4:\n",
    "        display(raceDropDown)\n",
    "\n",
    "columnsButton.on_click(lambda b: displayColumns())\n",
    "display(columnsButton,outputWidget4)\n",
    "display(raceDropDown)\n"
   ]
  },
  {
   "cell_type": "code",
   "execution_count": 14,
   "metadata": {},
   "outputs": [
    {
     "data": {
      "application/vnd.jupyter.widget-view+json": {
       "model_id": "2476083d117c44f4b00694d0bd5f3207",
       "version_major": 2,
       "version_minor": 0
      },
      "text/plain": [
       "Button(description='Go', layout=Layout(height='40px', width='auto'), style=ButtonStyle())"
      ]
     },
     "metadata": {},
     "output_type": "display_data"
    },
    {
     "data": {
      "application/vnd.jupyter.widget-view+json": {
       "model_id": "c157a0e57b3d4fc9a5ba29c44f69bfce",
       "version_major": 2,
       "version_minor": 0
      },
      "text/plain": [
       "Output(layout=Layout(border_bottom='1px solid black', border_left='1px solid black', border_right='1px solid b…"
      ]
     },
     "metadata": {},
     "output_type": "display_data"
    }
   ],
   "source": [
    "outputWidget5 = widgets.Output(layout={'border': '1px solid black'})\n",
    "\n",
    "def displaySummary():\n",
    "    with outputWidget5:\n",
    "        display(arrests[raceDropDown.value].value_counts(normalize=True))\n",
    "\n",
    "goButton = widgets.Button(\n",
    "    description='Go',\n",
    "    layout=layout,\n",
    ")\n",
    "\n",
    "goButton.on_click(lambda b: displaySummary())\n",
    "display(goButton,outputWidget5)"
   ]
  },
  {
   "cell_type": "code",
   "execution_count": 12,
   "metadata": {},
   "outputs": [
    {
     "data": {
      "text/plain": [
       "B    0.776757\n",
       "W    0.215869\n",
       "A    0.003597\n",
       "U    0.001925\n",
       "I    0.001853\n",
       "Name: race, dtype: float64"
      ]
     },
     "metadata": {},
     "output_type": "display_data"
    }
   ],
   "source": []
  }
 ],
 "metadata": {
  "kernelspec": {
   "display_name": "Python 3 (ipykernel)",
   "language": "python",
   "name": "python3"
  },
  "language_info": {
   "codemirror_mode": {
    "name": "ipython",
    "version": 3
   },
   "file_extension": ".py",
   "mimetype": "text/x-python",
   "name": "python",
   "nbconvert_exporter": "python",
   "pygments_lexer": "ipython3",
   "version": "3.8.9"
  },
  "vscode": {
   "interpreter": {
    "hash": "31f2aee4e71d21fbe5cf8b01ff0e069b9275f58929596ceb00d14d90e3e16cd6"
   }
  }
 },
 "nbformat": 4,
 "nbformat_minor": 2
}
