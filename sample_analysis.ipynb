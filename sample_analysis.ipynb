{
 "cells": [
  {
   "cell_type": "code",
   "execution_count": 3,
   "metadata": {},
   "outputs": [],
   "source": [
    "#Preamble\n",
    "import ipywidgets as widgets\n",
    "import io\n",
    "import os\n",
    "import pandas as pd\n",
    "import requests\n",
    "from matplotlib.pyplot import *\n",
    "import rpy2\n",
    "import rpy2.robjects as robjects\n",
    "import numpy\n",
    "import textwrap\n",
    "import requests\n",
    "import json\n",
    "import us\n",
    "\n",
    "pd.set_option(\"display.max_columns\", 500)\n",
    "pd.set_option(\"display.max_rows\", 500)\n",
    "\n",
    "\n"
   ]
  },
  {
   "attachments": {},
   "cell_type": "markdown",
   "metadata": {},
   "source": [
    "### Introduction\n",
    "This notebook will help you answer the question of \"Does a certain kind of police activity happen disproportionately (as compared to the town's population) to different racial groups?\""
   ]
  },
  {
   "attachments": {},
   "cell_type": "markdown",
   "metadata": {},
   "source": [
    "### **Step #0:** Lets get some census data to compare to\n",
    "\n",
    "If you have a CSV with the racial makeup of your town, upload that. Otherwise, we (eventually) will automatically pull census data.\n",
    "\n",
    "Usually this can easily be found by going to http://data.census.gov and typing your town's name in the search bar.  Then, select the 'RACE' data file, and click 'CSV' to download a CSV."
   ]
  },
  {
   "cell_type": "code",
   "execution_count": 15,
   "metadata": {},
   "outputs": [],
   "source": [
    "robjects.r('''\n",
    "        # create a function `fetchCensusRaceData`\n",
    "        fetchCensusRaceData <- function(state,county) {\n",
    "            c(state,county)\n",
    "        }\n",
    "        ''')\n",
    "r_FetchCensusRaceData = robjects.r['fetchCensusRaceData']"
   ]
  },
  {
   "cell_type": "code",
   "execution_count": null,
   "metadata": {},
   "outputs": [],
   "source": [
    "%matplotlib inline\n",
    "\n",
    "\n",
    "selectCensusDataMethod = widgets.RadioButtons(\n",
    "    options=['I have a CSV', 'Fetch census data for me'],\n",
    "#    layout={'width': 'max-content'}, # If the items' names are long\n",
    "    description='Do you already have demographic data?',\n",
    ")\n",
    "\n",
    "#for later use\n",
    "censusRaceDropDown = widgets.Dropdown()\n",
    "\n",
    "def load_data0():\n",
    "    global townRace\n",
    "    #townRaceRaw = pd.read_csv(os.path.join(\"data/\",fileSelect0.value),index_col=[0])\n",
    "    townRaceRaw = pd.read_csv(io.BytesIO(fileUpload0.value[-1].content),index_col=[0])\n",
    "    townRaceRaw.columns=['Population']\n",
    "    townRaceRaw['Population']=townRaceRaw['Population'].apply(lambda s: s.replace(',',''))\n",
    "    townRaceRaw['Population']=townRaceRaw['Population'].astype('int')\n",
    "    totalTownPopulation = townRaceRaw.filter(like='Total',axis='index').iloc[0,0]\n",
    "    townRace = pd.DataFrame([[\"White\",townRaceRaw.filter(like='White',axis='index')['Population'].sum()],\n",
    "                          [\"Black or African American\", townRaceRaw.filter(like='Black',axis='index')['Population'].sum()],\n",
    "                          [\"American Indian or Alaskan Native\", townRaceRaw.filter(like='American Indian',axis='index')['Population'].sum()],\n",
    "                          [\"Asian\", townRaceRaw.filter(like='Asian',axis='index')['Population'].sum()],\n",
    "                          [\"Native Hawaiian or Other Pacific Islander\",townRaceRaw.filter(like='Native Hawaiian',axis='index')['Population'].sum()],\n",
    "                          [\"Some Other Race\", townRaceRaw.filter(like='Other',axis='index')['Population'].sum()]])\n",
    "    townRace.columns=['Race','Population']\n",
    "    townRace['Percentage']=townRace['Population']/totalTownPopulation\n",
    "\n",
    "    with outputWidget0:\n",
    "        display(\"Successfully loaded the datafile \" + fileUpload0.value[-1].name)\n",
    "\n",
    "    displayCensusData()\n",
    "\n",
    "\n",
    "\n",
    "def displayCensusData():\n",
    "    censusRaceDropDown.options=townRace['Race']\n",
    "    with outputWidget4:\n",
    "        display(censusRaceDropDown)\n",
    "    with outputWidget1:\n",
    "        #display(\"The total population of your town is \" + str(totalTownPopulation))\n",
    "        townRace.plot.bar(x='Race',y='Percentage')\n",
    "        show()\n",
    "\n",
    "outputWidget0 = widgets.Output(layout={'border': '1px solid black'})\n",
    "outputWidget1 = widgets.Output(layout={'border': '1px solid black'})\n",
    "fileUpload0 = widgets.FileUpload()\n",
    "fileUpload0.observe(lambda b: load_data0(), names='value')\n",
    "apiText = widgets.Text() #description='Census API Key')\n",
    "\n",
    "def selection():\n",
    "    outputWidget0.clear_output()\n",
    "    with outputWidget0:\n",
    "        #display(widgets.Label(\"You have chosen \"+selectCensusDataMethod.value))\n",
    "        if selectCensusDataMethod.value == 'I have a CSV':\n",
    "            display(fileUpload0)\n",
    "        if selectCensusDataMethod.value == 'Fetch census data for me':\n",
    "            #display(r_FetchCensusRaceData(\"AL\",\"Mobile\"))\n",
    "            display(widgets.HBox([widgets.Label(\"Enter your census API Key:\"), apiText]))\n",
    "            display(fetchButton)\n",
    "            display(statusBox)\n",
    "            display(widgets.HBox([widgets.Label(\"Select the state your town is in:\"),stateDropDown]))\n",
    "            display(widgets.HBox([widgets.Label(\"Select your town: \"),placeDropDown]))\n",
    "            \n",
    "stateDropDown = widgets.Dropdown()\n",
    "placeDropDown = widgets.Dropdown()\n",
    "statusBox = widgets.VBox()\n",
    "def fetchClick(api_key):\n",
    "    statusBox.children += (widgets.Label(\"Fetching with census key \" + api_key + \" ... (this may take a moment)\"),)\n",
    "    global censusData\n",
    "    censusData = fetchCensusData(api_key)\n",
    "    statusBox.children+= (widgets.Label(\"Complete!\"),)\n",
    "    if not censusData.empty:\n",
    "        stateDropDown.options = censusData.groupby('State Code').groups.keys()\n",
    "\n",
    "\n",
    "\n",
    "def stateSelected():\n",
    "    #placeDropDown.options = sorted(censusData[censusData['State Code']==stateDropDown.value]['NAME'].values.tolist())\n",
    "    placeDropDown.options = sorted(censusData[censusData['State Code']==stateDropDown.value].index.values.tolist())\n",
    "stateDropDown.observe(lambda b: stateSelected(), names='value')\n",
    "\n",
    "def placeSelected():\n",
    "    global townRace\n",
    "    with outputWidget1:\n",
    "        display(str(censusData.loc[placeDropDown.value]['White']))\n",
    "        display(str(censusData.loc[placeDropDown.value]['Black']))\n",
    "        display(str(censusData.loc[placeDropDown.value]['AIAN']))\n",
    "        display(str(censusData.loc[placeDropDown.value]['Asian']))\n",
    "        display(str(censusData.loc[placeDropDown.value]['NHPI']))\n",
    "        display(str(censusData.loc[placeDropDown.value]['Some Other Race']))\n",
    "    townRace = pd.DataFrame([[\"White\",censusData.loc[placeDropDown.value]['White']],\n",
    "                          [\"Black or African American\", censusData.loc[placeDropDown.value]['Black']],\n",
    "                          [\"American Indian or Alaskan Native\", censusData.loc[placeDropDown.value]['AIAN']],\n",
    "                          [\"Asian\", censusData.loc[placeDropDown.value]['Asian']],\n",
    "                          [\"Native Hawaiian or Other Pacific Islander\", censusData.loc[placeDropDown.value]['NHPI']],\n",
    "                          [\"Some Other Race\", censusData.loc[placeDropDown.value]['Some Other Race']] ])\n",
    "    townRace.columns=['Race','Population']\n",
    "    townRace['Population']=townRace['Population'].astype('int')\n",
    "    townRace['Percentage']=townRace['Population']/int(censusData.loc[placeDropDown.value]['Total Population'])\n",
    "    #with outputWidget1:\n",
    "    #    display(townRace)\n",
    "    #    display(\"The total population of \" + placeDropDown.value + \" is \" + str(censusData.loc[placeDropDown.value]['Total Population']))\n",
    "    #    townRace.plot.bar(x='Race',y='Percentage')\n",
    "    #    show()\n",
    "    displayCensusData()\n",
    "placeDropDown.observe(lambda b: placeSelected(), names='value')\n",
    "\n",
    "fetchButton = widgets.Button(description=\"Fetch Census Data\")\n",
    "fetchButton.on_click(lambda b: fetchClick(apiText.value))\n",
    "\n",
    "selectCensusDataMethod.observe(lambda b: selection(), names='value')\n",
    "#Make sure our event handler runs the first time \n",
    "selection()\n",
    "\n",
    "display(selectCensusDataMethod)\n",
    "display(outputWidget0)\n",
    "display(outputWidget1)"
   ]
  },
  {
   "cell_type": "code",
   "execution_count": null,
   "metadata": {},
   "outputs": [],
   "source": [
    "#Dictionary of Census columns\n",
    "censusDict = {\n",
    "'B01003_001E': 'Total Population',\n",
    "'B01001_002E': 'Male',\n",
    "'B01001_026E': 'Female',\n",
    "'B02008_001E': 'White',\n",
    "'B02009_001E': 'Black',\n",
    "'B02010_001E': 'AIAN',\n",
    "'B02011_001E': 'Asian',\n",
    "'B02012_001E': 'NHPI',\n",
    "'B02013_001E': 'Some Other Race',\n",
    "'B03001_002E': 'Nonhispanic',\n",
    "'B03001_003E': 'Hispanic',\n",
    "'B06011_001E': 'Median Income',\n",
    "'B06012_002E': 'Below poverty level',\n",
    "'B06012_003E': 'Below 1.5 poverty level',\n",
    "'B23025_003E': 'Labor force',\n",
    "'B23025_004E': 'Employed',\n",
    "'B23025_005E': 'Unemployed',\n",
    "'B01001_003E': 'Male 0-4',\n",
    "'B01001_004E': 'Male 5-9',\n",
    "'B01001_005E': 'Male 10-14',\n",
    "'B01001_006E': 'Male 15-17',\n",
    "'B01001_007E': 'Male 18-19',\n",
    "'B01001_008E': 'Male 20',\n",
    "'B01001_009E': 'Male 21',\n",
    "'B01001_010E': 'Male 22-24',\n",
    "'B01001_011E': 'Male 25-29',\n",
    "'B01001_012E': 'Male 30-34',\n",
    "'B01001_013E': 'Male 35-39',\n",
    "'B01001_014E': 'Male 40-44',\n",
    "'B01001_015E': 'Male 45-49',\n",
    "'B01001_016E': 'Male 50-54',\n",
    "'B01001_017E': 'Male 55-59'\n",
    "}"
   ]
  },
  {
   "cell_type": "code",
   "execution_count": null,
   "metadata": {},
   "outputs": [],
   "source": [
    "#Returns a data frame of census\n",
    "def fetchCensusData(api_key):\n",
    "    year='2020'\n",
    "    dsource='acs' # the survey i.e. decennial census, acs, etc\n",
    "    dseries='acs5' # a dataset within the survey\n",
    "    #cols=\"\"\"NAME, B02008_001E, B01003_001E, B01001_002E, B01001_026E, B02008_001E, B02009_001E, B02010_001E, B02011_001E, B02012_001E, \n",
    "    #        B02013_001E, B03001_002E, B03001_003E, B06011_001E, B06012_002E, B06012_003E, B23025_003E, B23025_004E, B23025_005E, \n",
    "    #        B01001_003E, B01001_004E, B01001_005E, B01001_006E, B01001_007E, B01001_008E, B01001_009E, B01001_010E, B01001_011E, \n",
    "    #        B01001_012E, B01001_013E, B01001_014E, B01001_015E, B01001_016E, B01001_017E \"\"\" # census variables\n",
    "    #cols=cols.replace(' ','')\n",
    "    #cols=cols.replace('\\n','')\n",
    "    #cols=cols.replace('\\t','')\n",
    "    cols=\"NAME,\"+','.join(censusDict.keys())\n",
    "    #for debug\n",
    "    #cols=\"NAME,B02008_001E\"\n",
    "    state='*' # ansi fips codes for states; use asterisk * for all states\n",
    "    place='*' # ansi fips codes cities / towns; use asterisk * for all places\n",
    "\n",
    "    #api_key=\"60de298763b23e26f4c1b27e16a524ff026bfc7c\"\n",
    "\n",
    "\n",
    "    base_url = f'https://api.census.gov/data/{year}/{dsource}/{dseries}'\n",
    "\n",
    "    # for sub-geography within larger geography - geographies must nest\n",
    "    data_url = f'{base_url}?get={cols}&for=place:{place}&in=state:{state}&key={api_key}'\n",
    "\n",
    "    raw = requests.get(data_url).text\n",
    "    #Make sure the request went through\n",
    "    if raw.find('Invalid Key',0,100) != -1:\n",
    "        display(\"Error: invalid API key\")\n",
    "        return pd.DataFrame()\n",
    "\n",
    "    #else unpack the json\n",
    "    data = json.loads(raw)\n",
    "\n",
    "    #The first entry has the column headers\n",
    "    columns = data.pop(0)\n",
    "    #Load into a dataframe\n",
    "    df=pd.DataFrame(data, columns=columns)\n",
    "    #Rename using our dictionary\n",
    "    df.rename(columns=censusDict, inplace=True)\n",
    "    #Look up the postal code abbreviations for the states\n",
    "    df['State Code']= df.apply(lambda row: us.states.lookup(str(row['state'])).abbr, axis=1)\n",
    "    df=df.set_index('NAME')\n",
    "    return df\n"
   ]
  },
  {
   "cell_type": "markdown",
   "metadata": {},
   "source": [
    "### **Step #1:** Load the police data"
   ]
  },
  {
   "attachments": {},
   "cell_type": "markdown",
   "metadata": {},
   "source": [
    "Upload a CSV file containing data on police encounters here. We assume each row is a unique encounter with police."
   ]
  },
  {
   "cell_type": "code",
   "execution_count": 4,
   "metadata": {},
   "outputs": [
    {
     "data": {
      "application/vnd.jupyter.widget-view+json": {
       "model_id": "f970e1009f154bceadb88d2360bd8322",
       "version_major": 2,
       "version_minor": 0
      },
      "text/plain": [
       "Dropdown(options=('Durham_arrests_charges.csv', 'Durham_census_race_table.csv'), value='Durham_arrests_charges…"
      ]
     },
     "metadata": {},
     "output_type": "display_data"
    },
    {
     "data": {
      "application/vnd.jupyter.widget-view+json": {
       "model_id": "7a95e34186644a1d9e3cca05e401051b",
       "version_major": 2,
       "version_minor": 0
      },
      "text/plain": [
       "Button(description='Load data file', style=ButtonStyle())"
      ]
     },
     "metadata": {},
     "output_type": "display_data"
    },
    {
     "data": {
      "application/vnd.jupyter.widget-view+json": {
       "model_id": "650df4c2a3e64e8fad75579b472d7bdf",
       "version_major": 2,
       "version_minor": 0
      },
      "text/plain": [
       "Output(layout=Layout(border_bottom='1px solid black', border_left='1px solid black', border_right='1px solid b…"
      ]
     },
     "metadata": {},
     "output_type": "display_data"
    },
    {
     "data": {
      "application/javascript": "IPython.notebook.execute_cells_below()",
      "text/plain": [
       "<IPython.core.display.Javascript object>"
      ]
     },
     "metadata": {},
     "output_type": "display_data"
    }
   ],
   "source": [
    "outputWidget = widgets.Output(layout={'border': '1px solid black'})\n",
    "\n",
    "fileUpload1 = widgets.FileUpload()\n",
    "display(fileUpload1)\n",
    "\n",
    "outputWidget3 = widgets.Output(layout={'border': '1px solid black'})\n",
    "raceDropDown=widgets.Dropdown()\n",
    "def load_data():\n",
    "    global arrests\n",
    "    arrests = pd.read_csv(io.BytesIO(fileUpload1.value[-1].content),index_col=[0])\n",
    "    global raceDropDown\n",
    "    raceDropDown.options=arrests.columns\n",
    "    with outputWidget3:\n",
    "        display(raceDropDown)\n",
    "    \n",
    "    with outputWidget:\n",
    "        display(\"Successfully loaded the datafile \" + fileUpload1.value[-1].name )\n",
    "\n",
    "fileUpload1.observe(lambda b: load_data(), names='value')\n",
    "display(outputWidget)"
   ]
  },
  {
   "attachments": {},
   "cell_type": "markdown",
   "metadata": {},
   "source": [
    "What kind of encounter does this datafile represent (e.g. arrest, traffic stop, etc.)?"
   ]
  },
  {
   "cell_type": "code",
   "execution_count": null,
   "metadata": {},
   "outputs": [],
   "source": [
    "encounterType = widgets.Text( description='Encounter type:', style= {'description_width': 'initial'})\n",
    "display(encounterType)"
   ]
  },
  {
   "attachments": {},
   "cell_type": "markdown",
   "metadata": {},
   "source": [
    "If you would like to preview your data, select how many rows you would like to preview from the dropdown."
   ]
  },
  {
   "cell_type": "code",
   "execution_count": 5,
   "metadata": {},
   "outputs": [
    {
     "data": {
      "application/vnd.jupyter.widget-view+json": {
       "model_id": "3c1fbd89788142d396d9c121c4476c7e",
       "version_major": 2,
       "version_minor": 0
      },
      "text/plain": [
       "Dropdown(description='Number:', options=('5', '10', '15', '20'), value='5')"
      ]
     },
     "metadata": {},
     "output_type": "display_data"
    },
    {
     "data": {
      "application/vnd.jupyter.widget-view+json": {
       "model_id": "0b147f8300d246adb561cd2a6fd80231",
       "version_major": 2,
       "version_minor": 0
      },
      "text/plain": [
       "Button(description='Preview', style=ButtonStyle())"
      ]
     },
     "metadata": {},
     "output_type": "display_data"
    },
    {
     "data": {
      "application/vnd.jupyter.widget-view+json": {
       "model_id": "dddb8647513d44009a90be11b48bd884",
       "version_major": 2,
       "version_minor": 0
      },
      "text/plain": [
       "Output(layout=Layout(border_bottom='1px solid black', border_left='1px solid black', border_right='1px solid b…"
      ]
     },
     "metadata": {},
     "output_type": "display_data"
    }
   ],
   "source": [
    "outputWidget2 = widgets.Output(layout={'border': '1px solid black'})\n",
    "# Take a first look:\n",
    "numRows = widgets.Dropdown(\n",
    "    options=['5', '10', '15', '20'],\n",
    "    description='Number:',\n",
    "    disabled=False,\n",
    ")\n",
    "display(numRows)\n",
    "def preview_data():\n",
    "    outputWidget2.clear_output()\n",
    "    with outputWidget2:\n",
    "        display(arrests.sample(int(numRows.value)))\n",
    "numRows.observe(lambda b: preview_data(), names='value')\n",
    "display(outputWidget2)"
   ]
  },
  {
   "attachments": {},
   "cell_type": "markdown",
   "metadata": {},
   "source": [
    "### **Step #2:** Which column has the racial data?"
   ]
  },
  {
   "attachments": {},
   "cell_type": "markdown",
   "metadata": {},
   "source": [
    "Which of these columns represents the race of the person described in the police report? "
   ]
  },
  {
   "cell_type": "code",
   "execution_count": null,
   "metadata": {},
   "outputs": [],
   "source": [
    "%matplotlib inline\n",
    "display(outputWidget3)\n",
    "\n",
    "#For later use\n",
    "policeRaceSelectMultiple = widgets.SelectMultiple()\n",
    "def raceDropdownChange():\n",
    "    policeRaceSelectMultiple.options = arrests.groupby(raceDropDown.value).groups.keys()\n",
    "    with outputWidget4:\n",
    "        display(policeRaceSelectMultiple)\n",
    "    with outputWidget3:\n",
    "        arrests[raceDropDown.value].value_counts(normalize=True).plot.bar()\n",
    "        show()\n",
    "raceDropDown.observe(lambda b: raceDropdownChange(),names='value')"
   ]
  },
  {
   "attachments": {},
   "cell_type": "markdown",
   "metadata": {},
   "source": [
    "In order to compare, we need to somehow match up Census racial categories with police racial categories.\n",
    "Select a census racial category from the dropdown, and then select which categories from the police data should match to it.\n",
    "When finished, click the button to confirm."
   ]
  },
  {
   "cell_type": "code",
   "execution_count": null,
   "metadata": {},
   "outputs": [],
   "source": [
    "#May refactor later. Here is a first go\n",
    "outputWidget4 = widgets.Output(layout={'border': '1px solid black'})\n",
    "\n",
    "#Make a dropdown for race categories from census\n",
    "raceMapDict={}\n",
    "def policeSelectChange():\n",
    "    global raceMapDict\n",
    "    with outputWidget4:\n",
    "        if censusRaceDropDown.value:\n",
    "            raceMapDict[censusRaceDropDown.value]=policeRaceSelectMultiple.value\n",
    "            \n",
    "            if policeRaceSelectMultiple.value:\n",
    "                display(\"Police categories \" + \" and \".join(policeRaceSelectMultiple.value) + \" are now mapped to \" + censusRaceDropDown.value)\n",
    "            else:\n",
    "                display(\"No police categories are mapped to \"+censusRaceDropDown.value)\n",
    "        else:\n",
    "            display(\"Select a census category first\")\n",
    "\n",
    "policeRaceSelectMultiple.observe(lambda b: policeSelectChange(), names='value')\n",
    "\n",
    "display(outputWidget4)"
   ]
  },
  {
   "cell_type": "code",
   "execution_count": null,
   "metadata": {},
   "outputs": [],
   "source": [
    "outputWidget5 = widgets.Output(layout={'border': '1px solid black'})\n",
    "\n",
    "dictButton = widgets.Button(\n",
    "    description='Click to confirm mapping of categories',\n",
    ")\n",
    "\n",
    "display(dictButton)\n",
    "\n",
    "def displayDict():\n",
    "    outputWidget5.clear_output()\n",
    "    with outputWidget5:\n",
    "        #Check if they accidentally mapped a category multiple places\n",
    "        for x in set([ item for l in raceMapDict.values() for item in l]):\n",
    "            if [ item for l in raceMapDict.values() for item in l].count(x)> 1:\n",
    "                display(\"Warning: \" + str(x) + \" is mapped to multiple categories\")\n",
    "        #Display the mapping for verification\n",
    "        for key in raceMapDict.keys():\n",
    "            display(key +\" is mapped to \" + \" and \".join(raceMapDict[key]))\n",
    "\n",
    "        X = raceMapDict.keys()\n",
    "        Ytown=[]\n",
    "        Ypolice=[]\n",
    "        townRace.set_index('Race', inplace = True)\n",
    "        for key in X:\n",
    "            Ytown.append(townRace.loc[key,'Percentage'])\n",
    "            Ypolice.append(sum([arrests[raceDropDown.value].value_counts(normalize=True)[v] for v in raceMapDict[key]]))\n",
    "\n",
    "        X_axis = numpy.arange(len(X))\n",
    "\n",
    "        if encounterType.value:\n",
    "            encounterString = encounterType.value\n",
    "        else:\n",
    "            encounterString = \"Police encounters\"\n",
    "        \n",
    "        matplotlib.pyplot.bar(X_axis - 0.2, Ytown, 0.4, label = 'Town')\n",
    "        matplotlib.pyplot.bar(X_axis + 0.2, Ypolice, 0.4, label = encounterString)\n",
    "        \n",
    "        #Handle long category names gracefully\n",
    "        f = lambda x: textwrap.fill(x, 10)\n",
    "        matplotlib.pyplot.xticks(X_axis, map(f,X))\n",
    "        matplotlib.pyplot.xlabel(\"Race\")\n",
    "        matplotlib.pyplot.ylabel(\"Percentage\")\n",
    "        matplotlib.pyplot.title(\"Comparison of town demographics to \" + encounterString)\n",
    "        matplotlib.pyplot.legend()\n",
    "        matplotlib.pyplot.show()\n",
    "dictButton.on_click(lambda b: displayDict())\n",
    "\n",
    "\n",
    "display(outputWidget5)"
   ]
  }
 ],
 "metadata": {
  "kernelspec": {
   "display_name": "Python 3 (ipykernel)",
   "language": "python",
   "name": "python3"
  },
  "language_info": {
   "codemirror_mode": {
    "name": "ipython",
    "version": 3
   },
   "file_extension": ".py",
   "mimetype": "text/x-python",
   "name": "python",
   "nbconvert_exporter": "python",
   "pygments_lexer": "ipython3",
   "version": "3.8.9 (default, Apr 13 2022, 08:48:06) \n[Clang 13.1.6 (clang-1316.0.21.2.5)]"
  },
  "vscode": {
   "interpreter": {
    "hash": "31f2aee4e71d21fbe5cf8b01ff0e069b9275f58929596ceb00d14d90e3e16cd6"
   }
  }
 },
 "nbformat": 4,
 "nbformat_minor": 2
}
