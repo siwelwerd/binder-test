{
 "cells": [
  {
   "cell_type": "code",
   "execution_count": 13,
   "metadata": {},
   "outputs": [],
   "source": [
    "#Preamble\n",
    "import ipywidgets as widgets\n",
    "import io\n",
    "import os\n",
    "import pandas as pd\n",
    "import requests\n",
    "from matplotlib.pyplot import *\n",
    "import rpy2\n",
    "import rpy2.robjects as robjects\n",
    "\n",
    "pd.set_option(\"display.max_columns\", 500)\n",
    "pd.set_option(\"display.max_rows\", 500)\n",
    "\n",
    "\n"
   ]
  },
  {
   "cell_type": "markdown",
   "metadata": {},
   "source": [
    "# **Sample Analysis**\n",
    "### Introduction\n",
    "Add some instructions here"
   ]
  },
  {
   "attachments": {},
   "cell_type": "markdown",
   "metadata": {},
   "source": [
    "### **Step #0:** Lets get some census data to compare to\n",
    "\n",
    "Select the CSV with the census race data for your town, and press \"Load\""
   ]
  },
  {
   "cell_type": "code",
   "execution_count": 15,
   "metadata": {},
   "outputs": [],
   "source": [
    "robjects.r('''\n",
    "        # create a function `fetchCensusRaceData`\n",
    "        fetchCensusRaceData <- function(state,county) {\n",
    "            c(state,county)\n",
    "        }\n",
    "        ''')\n",
    "r_FetchCensusRaceData = robjects.r['fetchCensusRaceData']"
   ]
  },
  {
   "cell_type": "code",
   "execution_count": null,
   "metadata": {},
   "outputs": [],
   "source": [
    "%matplotlib inline\n",
    "\n",
    "\n",
    "selectCensusDataMethod = widgets.RadioButtons(\n",
    "    options=['I have a CSV', 'Fetch census data for me'],\n",
    "#    value='pineapple', # Defaults to 'pineapple'\n",
    "#    layout={'width': 'max-content'}, # If the items' names are long\n",
    "    description='Do you already have demographic data?',\n",
    ")\n",
    "\n",
    "def load_data0():\n",
    "    global townRace\n",
    "    townRaceRaw = pd.read_csv(os.path.join(\"data/\",fileSelect0.value),index_col=[0])\n",
    "    townRaceRaw.columns=['Population']\n",
    "    townRaceRaw['Population']=townRaceRaw['Population'].apply(lambda s: s.replace(',',''))\n",
    "    townRaceRaw['Population']=townRaceRaw['Population'].astype('int')\n",
    "    totalTownPopulation = townRaceRaw.filter(like='Total',axis='index').iloc[0,0]\n",
    "    townRace = pd.DataFrame([[\"White\",townRaceRaw.filter(like='White',axis='index')['Population'].sum()],\n",
    "                          [\"Black or African American\", townRaceRaw.filter(like='Black',axis='index')['Population'].sum()],\n",
    "                          [\"American Indian or Alaskan Native\", townRaceRaw.filter(like='American Indian',axis='index')['Population'].sum()],\n",
    "                          [\"Asian\", townRaceRaw.filter(like='Asian',axis='index')['Population'].sum()],\n",
    "                          [\"Native Hawaiian or Other Pacific Islander\",townRaceRaw.filter(like='Native Hawaiian',axis='index')['Population'].sum()],\n",
    "                          [\"Some Other Race\", townRaceRaw.filter(like='Other',axis='index')['Population'].sum()]])\n",
    "    townRace.columns=['Race','Population']\n",
    "    townRace['Percentage']=townRace['Population']/totalTownPopulation\n",
    "    \n",
    "    with outputWidget0:\n",
    "        display(\"Successfully loaded the datafile \" + fileSelect0.value )\n",
    "        display(\"The total population of your town is \" + str(totalTownPopulation))\n",
    "        display(townRace)\n",
    "        townRace.plot.bar(x='Race',y='Percentage')\n",
    "        show()\n",
    "\n",
    "outputWidget0 = widgets.Output(layout={'border': '1px solid black'})\n",
    "fileSelect0 = widgets.Dropdown(\n",
    "    options= os.listdir('data/'),\n",
    "    disabled=False\n",
    ")\n",
    "loadButton0 = widgets.Button(description='Load data file')\n",
    "loadButton0.on_click(lambda b: load_data0())\n",
    "\n",
    "def selection(change):\n",
    "    outputWidget0.clear_output()\n",
    "    with outputWidget0:\n",
    "        display(\"You have chosen \"+selectCensusDataMethod.value)\n",
    "        if selectCensusDataMethod.value == 'I have a CSV':\n",
    "            display(fileSelect0)\n",
    "            display(loadButton0)\n",
    "        if selectCensusDataMethod.value == 'Fetch census data for me':\n",
    "            display(r_FetchCensusRaceData(\"AL\",\"Mobile\"))\n",
    "            \n",
    "selectCensusDataMethod.observe(selection, names='value')\n",
    "#Make sure our event handler runs the first time \n",
    "selection(0)\n",
    "\n",
    "display(selectCensusDataMethod)\n",
    "display(outputWidget0)"
   ]
  },
  {
   "cell_type": "markdown",
   "metadata": {},
   "source": [
    "### **Step #1:** Load the police data"
   ]
  },
  {
   "cell_type": "markdown",
   "metadata": {},
   "source": [
    "Select your police datafile from the dropdown, and then press load.\n",
    "You may need to upload your datafile to the \"data\" directory on the left."
   ]
  },
  {
   "cell_type": "code",
   "execution_count": 4,
   "metadata": {},
   "outputs": [
    {
     "data": {
      "application/vnd.jupyter.widget-view+json": {
       "model_id": "f970e1009f154bceadb88d2360bd8322",
       "version_major": 2,
       "version_minor": 0
      },
      "text/plain": [
       "Dropdown(options=('Durham_arrests_charges.csv', 'Durham_census_race_table.csv'), value='Durham_arrests_charges…"
      ]
     },
     "metadata": {},
     "output_type": "display_data"
    },
    {
     "data": {
      "application/vnd.jupyter.widget-view+json": {
       "model_id": "7a95e34186644a1d9e3cca05e401051b",
       "version_major": 2,
       "version_minor": 0
      },
      "text/plain": [
       "Button(description='Load data file', style=ButtonStyle())"
      ]
     },
     "metadata": {},
     "output_type": "display_data"
    },
    {
     "data": {
      "application/vnd.jupyter.widget-view+json": {
       "model_id": "650df4c2a3e64e8fad75579b472d7bdf",
       "version_major": 2,
       "version_minor": 0
      },
      "text/plain": [
       "Output(layout=Layout(border_bottom='1px solid black', border_left='1px solid black', border_right='1px solid b…"
      ]
     },
     "metadata": {},
     "output_type": "display_data"
    },
    {
     "data": {
      "application/javascript": "IPython.notebook.execute_cells_below()",
      "text/plain": [
       "<IPython.core.display.Javascript object>"
      ]
     },
     "metadata": {},
     "output_type": "display_data"
    }
   ],
   "source": [
    "outputWidget = widgets.Output(layout={'border': '1px solid black'})\n",
    "\n",
    "fileSelect = widgets.Dropdown(\n",
    "    options= os.listdir('data/'),\n",
    "    disabled=False\n",
    ")\n",
    "display(fileSelect)\n",
    "loadButton = widgets.Button(\n",
    "    description='Load data file',\n",
    ")\n",
    "\n",
    "outputWidget3 = widgets.Output(layout={'border': '1px solid black'})\n",
    "raceDropDown=widgets.Dropdown()\n",
    "def load_data():\n",
    "    global arrests\n",
    "    arrests = pd.read_csv(os.path.join(\"data/\",fileSelect.value),index_col=[0])\n",
    "    global raceDropDown\n",
    "    raceDropDown.options=arrests.columns\n",
    "    with outputWidget3:\n",
    "        display(raceDropDown)\n",
    "    \n",
    "    with outputWidget:\n",
    "        display(\"Successfully loaded the datafile \" + fileSelect.value )\n",
    "\n",
    "loadButton.on_click(lambda b: load_data())\n",
    "display(loadButton,outputWidget)"
   ]
  },
  {
   "attachments": {},
   "cell_type": "markdown",
   "metadata": {},
   "source": [
    "Let's take a quick look at the data.  Select how many rows you would like to preview."
   ]
  },
  {
   "cell_type": "code",
   "execution_count": 5,
   "metadata": {},
   "outputs": [
    {
     "data": {
      "application/vnd.jupyter.widget-view+json": {
       "model_id": "3c1fbd89788142d396d9c121c4476c7e",
       "version_major": 2,
       "version_minor": 0
      },
      "text/plain": [
       "Dropdown(description='Number:', options=('5', '10', '15', '20'), value='5')"
      ]
     },
     "metadata": {},
     "output_type": "display_data"
    },
    {
     "data": {
      "application/vnd.jupyter.widget-view+json": {
       "model_id": "0b147f8300d246adb561cd2a6fd80231",
       "version_major": 2,
       "version_minor": 0
      },
      "text/plain": [
       "Button(description='Preview', style=ButtonStyle())"
      ]
     },
     "metadata": {},
     "output_type": "display_data"
    },
    {
     "data": {
      "application/vnd.jupyter.widget-view+json": {
       "model_id": "dddb8647513d44009a90be11b48bd884",
       "version_major": 2,
       "version_minor": 0
      },
      "text/plain": [
       "Output(layout=Layout(border_bottom='1px solid black', border_left='1px solid black', border_right='1px solid b…"
      ]
     },
     "metadata": {},
     "output_type": "display_data"
    }
   ],
   "source": [
    "outputWidget2 = widgets.Output(layout={'border': '1px solid black'})\n",
    "# Take a first look:\n",
    "pd.set_option(\"display.max_rows\", None)\n",
    "numRows = widgets.Dropdown(\n",
    "    options=['5', '10', '15', '20'],\n",
    "    value='5',\n",
    "    description='Number:',\n",
    "    disabled=False,\n",
    ")\n",
    "display(numRows)\n",
    "def preview_data(change):\n",
    "    outputWidget2.clear_output()\n",
    "    with outputWidget2:\n",
    "        display(arrests.sample(int(numRows.value)))\n",
    "numRows.observe(preview_data, names='value')\n",
    "display(outputWidget2)"
   ]
  },
  {
   "attachments": {},
   "cell_type": "markdown",
   "metadata": {},
   "source": [
    "### **Step #2:** Which type of data do we have"
   ]
  },
  {
   "cell_type": "code",
   "execution_count": 6,
   "metadata": {},
   "outputs": [
    {
     "data": {
      "application/vnd.jupyter.widget-view+json": {
       "model_id": "1c902fe9111940aa9f3b201091e9c775",
       "version_major": 2,
       "version_minor": 0
      },
      "text/plain": [
       "Button(description='Display column names', layout=Layout(height='40px', width='auto'), style=ButtonStyle())"
      ]
     },
     "metadata": {},
     "output_type": "display_data"
    },
    {
     "data": {
      "application/vnd.jupyter.widget-view+json": {
       "model_id": "a6b545a51ad24cfda40820d24aa560b0",
       "version_major": 2,
       "version_minor": 0
      },
      "text/plain": [
       "Output(layout=Layout(border_bottom='1px solid black', border_left='1px solid black', border_right='1px solid b…"
      ]
     },
     "metadata": {},
     "output_type": "display_data"
    }
   ],
   "source": [
    "#outputWidget3 = widgets.Output(layout={'border': '1px solid black'})\n",
    "#layout = widgets.Layout(width='auto', height='40px') #set width and height\n",
    "#columnsButton = widgets.Button(\n",
    "    #description='Click here to continue',\n",
    "    #layout=layout,\n",
    "#)\n",
    "#def displayColumns():\n",
    "    #with outputWidget3:\n",
    "        ##display(arrests.columns)\n",
    "        #global raceDropDown\n",
    "        #raceDropDown = widgets.Dropdown(\n",
    "            #options=arrests.columns,\n",
    "            #disabled=False,\n",
    "        #)\n",
    "        #display(raceDropDown)\n",
    "#columnsButton.on_click(lambda b: displayColumns())\n",
    "#\n",
    "\n"
   ]
  },
  {
   "cell_type": "markdown",
   "metadata": {},
   "source": [
    "Which of these columns represents a demographic category of interest, like race?"
   ]
  },
  {
   "cell_type": "code",
   "execution_count": null,
   "metadata": {},
   "outputs": [],
   "source": [
    "%matplotlib inline\n",
    "#display(columnsButton,outputWidget3)\n",
    "display(outputWidget3)\n",
    "\n",
    "def raceDropdownChange(change):\n",
    "    with outputWidget3:\n",
    "        arrests[raceDropDown.value].value_counts(normalize=True).plot.bar()\n",
    "        show()\n",
    "raceDropDown.observe(raceDropdownChange,names='value')"
   ]
  },
  {
   "cell_type": "code",
   "execution_count": null,
   "metadata": {},
   "outputs": [],
   "source": [
    "outputWidget8 = widgets.Output(layout={'border': '1px solid black'})\n",
    "uploader = widgets.FileUpload()\n",
    "\n",
    "def on_upload_change(change):\n",
    "    global test\n",
    "    test=pd.read_csv(io.BytesIO(uploader.value[-1].content))\n",
    "    with outputWidget8:\n",
    "        display(\"File uploaded\")\n",
    "        display(\"Loading file\"+uploader.value[-1].name)\n",
    "        display(test.sample(5))\n",
    "\n",
    "uploader.observe(on_upload_change, names='value')\n",
    "\n",
    "display(uploader, outputWidget8)\n",
    "\n"
   ]
  }
 ],
 "metadata": {
  "kernelspec": {
   "display_name": "Python 3 (ipykernel)",
   "language": "python",
   "name": "python3"
  },
  "language_info": {
   "codemirror_mode": {
    "name": "ipython",
    "version": 3
   },
   "file_extension": ".py",
   "mimetype": "text/x-python",
   "name": "python",
   "nbconvert_exporter": "python",
   "pygments_lexer": "ipython3",
   "version": "3.8.9"
  },
  "vscode": {
   "interpreter": {
    "hash": "31f2aee4e71d21fbe5cf8b01ff0e069b9275f58929596ceb00d14d90e3e16cd6"
   }
  }
 },
 "nbformat": 4,
 "nbformat_minor": 2
}
