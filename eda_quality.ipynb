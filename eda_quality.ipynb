{
 "cells": [
  {
   "cell_type": "markdown",
   "metadata": {},
   "source": [
    "# **Sample Quality Check - Durham Police Department Arrest Reports**\n",
    "### Introduction\n",
    "<font color=#FF0000>*TBD*</font><br><br>\n",
    "This document contains sample code and instructions on how to evaluate the conditions of data once it is in a table format based on factors such as accuracy, completeness, consistency, reliability and whether it's up to date.\n",
    "- **Quality metrics**: \n",
    "    - Completenes % (Counts & proportions of NAs)\n",
    "        - Which NAs are relevant? Which should we try to impute or delete entirely?\n",
    "    - Consistency (Value Counts, search for typos)\n",
    "        - How to fix inconsistent categorical values?\n",
    "    - Reliability (Perceived vs. Self reported, which values should be consistent?)\n",
    "    - Currency (Dates, how old is too old?)\n",
    "- **Summary statistics**:\n",
    "    - Mean, min, max for continuous variables, crosstabs for discrete\n",
    "    - Cross-comparison counts for discrete categorical variables \n",
    "- **Distributions**:\n",
    "    - Histograms for continuous variables\n",
    "    - Crosstabs, barplots for discrete categoricals variables"
   ]
  },
  {
   "cell_type": "markdown",
   "metadata": {},
   "source": [
    "### **Step #1:** Load the data"
   ]
  },
  {
   "cell_type": "code",
   "execution_count": 32,
   "metadata": {},
   "outputs": [],
   "source": [
    "#Load that data in table format:\n",
    "# https://www.practicaldatascience.org/html/pandas_series.html offers a quick tutorial on how to use the Pandas library if you are not familiar.\n",
    "# The most common table data format is csv (comma separated values).\n",
    "# Other common functions you may use to load the data are: pd.read_excel, pd.read_stata.\n",
    "\n",
    "\n",
    "import ipywidgets as widgets\n",
    "import io\n",
    "import os\n",
    "import pandas as pd\n",
    "from IPython.display import Javascript\n",
    "\n",
    "pd.set_option(\"display.max_columns\", 500)\n",
    "pd.set_option(\"display.max_rows\", 500)\n",
    "\n",
    "data_loaded=False\n"
   ]
  },
  {
   "attachments": {},
   "cell_type": "markdown",
   "metadata": {},
   "source": [
    "Select your datafile from the dropdown, and then press load.\n",
    "You may need to upload your datafile to the \"data\" directory on the left."
   ]
  },
  {
   "cell_type": "code",
   "execution_count": 36,
   "metadata": {},
   "outputs": [
    {
     "data": {
      "application/vnd.jupyter.widget-view+json": {
       "model_id": "5c47065025d7449ba479e5600476db3e",
       "version_major": 2,
       "version_minor": 0
      },
      "text/plain": [
       "Dropdown(options=('arrests_charges.csv',), value='arrests_charges.csv')"
      ]
     },
     "metadata": {},
     "output_type": "display_data"
    },
    {
     "data": {
      "application/vnd.jupyter.widget-view+json": {
       "model_id": "34a8ada2e2fa48ceab380012413bb053",
       "version_major": 2,
       "version_minor": 0
      },
      "text/plain": [
       "Button(description='Load data file', style=ButtonStyle())"
      ]
     },
     "metadata": {},
     "output_type": "display_data"
    },
    {
     "data": {
      "application/vnd.jupyter.widget-view+json": {
       "model_id": "b64bf287f6a34e6b84e496e2bac40f75",
       "version_major": 2,
       "version_minor": 0
      },
      "text/plain": [
       "Output(layout=Layout(border_bottom='1px solid black', border_left='1px solid black', border_right='1px solid b…"
      ]
     },
     "metadata": {},
     "output_type": "display_data"
    }
   ],
   "source": [
    "outputWidget = widgets.Output(layout={'border': '1px solid black'})\n",
    "\n",
    "fileSelect = widgets.Dropdown(\n",
    "    options= os.listdir('data/'),\n",
    "    disabled=False\n",
    ")\n",
    "display(fileSelect)\n",
    "loadButton = widgets.Button(\n",
    "    description='Load data file',\n",
    ")\n",
    "def load_data():\n",
    "    global arrests\n",
    "    arrests = pd.read_csv(os.path.join(\"data/\",fileSelect.value),index_col=[0])\n",
    "    global data_loaded\n",
    "    data_loaded=true\n",
    "    display(Javascript('IPython.notebook.execute_cells_below()'))\n",
    "    with outputWidget:\n",
    "        display(\"Successfully loaded the datafile \" + fileSelect.value )\n",
    "\n",
    "loadButton.on_click(lambda b: load_data())\n",
    "display(loadButton,outputWidget)"
   ]
  },
  {
   "attachments": {},
   "cell_type": "markdown",
   "metadata": {},
   "source": [
    "Let's take a quick look at the data.  Select how many rows you would like to preview, then press the 'Preview' button."
   ]
  },
  {
   "cell_type": "code",
   "execution_count": 13,
   "metadata": {},
   "outputs": [
    {
     "data": {
      "application/vnd.jupyter.widget-view+json": {
       "model_id": "96f0dc02eb5a496993319c22ee19bbb5",
       "version_major": 2,
       "version_minor": 0
      },
      "text/plain": [
       "Dropdown(description='Number:', options=('5', '10', '15', '20'), value='5')"
      ]
     },
     "metadata": {},
     "output_type": "display_data"
    },
    {
     "data": {
      "application/vnd.jupyter.widget-view+json": {
       "model_id": "642c9de119d44ce2bd129cf0f5e3cb3b",
       "version_major": 2,
       "version_minor": 0
      },
      "text/plain": [
       "Button(description='Preview', style=ButtonStyle())"
      ]
     },
     "metadata": {},
     "output_type": "display_data"
    },
    {
     "data": {
      "application/vnd.jupyter.widget-view+json": {
       "model_id": "feb97d69562149268475e7943b3844bf",
       "version_major": 2,
       "version_minor": 0
      },
      "text/plain": [
       "Output(layout=Layout(border_bottom='1px solid black', border_left='1px solid black', border_right='1px solid b…"
      ]
     },
     "metadata": {},
     "output_type": "display_data"
    }
   ],
   "source": [
    "outputWidget2 = widgets.Output(layout={'border': '1px solid black'})\n",
    "# Take a first look:\n",
    "pd.set_option(\"display.max_rows\", None)\n",
    "numRows = widgets.Dropdown(\n",
    "    options=['5', '10', '15', '20'],\n",
    "    value='5',\n",
    "    description='Number:',\n",
    "    disabled=False,\n",
    ")\n",
    "display(numRows)\n",
    "previewButton = widgets.Button(\n",
    "    description='Preview',\n",
    ")\n",
    "def preview_data():\n",
    "    outputWidget2.clear_output()\n",
    "    with outputWidget2:\n",
    "        display(arrests.sample(int(numRows.value)))\n",
    "\n",
    "previewButton.on_click(lambda b: preview_data())\n",
    "display(previewButton,outputWidget2)"
   ]
  },
  {
   "cell_type": "markdown",
   "metadata": {},
   "source": [
    "### **Step #2:** Which type of data do we have?\n",
    "Typically, police records inform of interactions between the police and a civilian. The first step in measuring the quality of your dataset is finding out which type of data you have. \n",
    "As you understand the types of fields you have, define the unit of observation. Think of what does one row in your table represent.<br>\n",
    "In this example, one row is one police charge. However, there is a hiwerarchy. All charge to the same person on one police interaction are under the same \"case\" which is identifiable by an \"arrest number\". Keep in mind this hierarchy is important to understand how police interacts with individual people. "
   ]
  },
  {
   "cell_type": "code",
   "execution_count": 21,
   "metadata": {},
   "outputs": [
    {
     "data": {
      "application/vnd.jupyter.widget-view+json": {
       "model_id": "1447fb32347641d68d99e1136d8a5221",
       "version_major": 2,
       "version_minor": 0
      },
      "text/plain": [
       "Button(description='Display column names', layout=Layout(height='40px', width='auto'), style=ButtonStyle())"
      ]
     },
     "metadata": {},
     "output_type": "display_data"
    },
    {
     "data": {
      "application/vnd.jupyter.widget-view+json": {
       "model_id": "630a3b1d6adf4025a0c40c529e7e5f00",
       "version_major": 2,
       "version_minor": 0
      },
      "text/plain": [
       "Output(layout=Layout(border_bottom='1px solid black', border_left='1px solid black', border_right='1px solid b…"
      ]
     },
     "metadata": {},
     "output_type": "display_data"
    }
   ],
   "source": [
    "outputWidget3 = widgets.Output(layout={'border': '1px solid black'})\n",
    "layout = widgets.Layout(width='auto', height='40px') #set width and height\n",
    "columnsButton = widgets.Button(\n",
    "    description='Display column names',\n",
    "    layout=layout,\n",
    ")\n",
    "def displayColumns():\n",
    "    with outputWidget3:\n",
    "        display(arrests.columns)\n",
    "\n",
    "columnsButton.on_click(lambda b: displayColumns())\n",
    "display(columnsButton,outputWidget3)\n",
    "\n"
   ]
  },
  {
   "attachments": {},
   "cell_type": "markdown",
   "metadata": {},
   "source": [
    "Which of these columns represents a demographic category of interest, like race?"
   ]
  },
  {
   "cell_type": "code",
   "execution_count": 23,
   "metadata": {},
   "outputs": [
    {
     "data": {
      "application/vnd.jupyter.widget-view+json": {
       "model_id": "c556a3f5f2a443a89214ad0b4ea8e1cd",
       "version_major": 2,
       "version_minor": 0
      },
      "text/plain": [
       "Dropdown(options=('agencyname', 'datetimeofarrest', 'file', 'arrestnumber', 'scars_tattoes_bodymarkings_etc', …"
      ]
     },
     "metadata": {},
     "output_type": "display_data"
    }
   ],
   "source": [
    "if data_loaded:\n",
    "    outputWidget4 = widgets.Output(layout={'border': '1px solid black'})\n",
    "    raceDropDown = widgets.Dropdown(\n",
    "        options=arrests.columns,\n",
    "        disabled=False,\n",
    "    )\n",
    "    def displayRaceDropdown():\n",
    "        with outputWidget4:\n",
    "            display(raceDropDown)\n",
    "\n",
    "    columnsButton.on_click(lambda b: displayColumns())\n",
    "    display(columnsButton,outputWidget4)\n",
    "    display(raceDropDown)\n"
   ]
  },
  {
   "attachments": {},
   "cell_type": "markdown",
   "metadata": {},
   "source": [
    "Which of these columns represents a numerical value of police interactions?"
   ]
  },
  {
   "cell_type": "code",
   "execution_count": 24,
   "metadata": {},
   "outputs": [
    {
     "data": {
      "application/vnd.jupyter.widget-view+json": {
       "model_id": "c2588fef2550437cb90cda29b73d1f9e",
       "version_major": 2,
       "version_minor": 0
      },
      "text/plain": [
       "Dropdown(options=('agencyname', 'datetimeofarrest', 'file', 'arrestnumber', 'scars_tattoes_bodymarkings_etc', …"
      ]
     },
     "metadata": {},
     "output_type": "display_data"
    }
   ],
   "source": [
    "if data_loaded:\n",
    "    numericalDropdown = widgets.Dropdown(\n",
    "        options=arrests.columns,\n",
    "        disabled=False,\n",
    "    )\n",
    "    display(numericalDropdown)"
   ]
  },
  {
   "cell_type": "code",
   "execution_count": 28,
   "metadata": {},
   "outputs": [
    {
     "data": {
      "text/plain": [
       "race\n",
       "A    1.090909\n",
       "B    1.081053\n",
       "I    1.450980\n",
       "U    1.018868\n",
       "W    1.057388\n",
       "Name: charge_counts, dtype: float64"
      ]
     },
     "metadata": {},
     "output_type": "display_data"
    }
   ],
   "source": [
    "if data_loaded:\n",
    "    display(arrests.groupby([raceDropDown.value])[numericalDropdown.value].mean())"
   ]
  },
  {
   "cell_type": "code",
   "execution_count": null,
   "metadata": {},
   "outputs": [
    {
     "data": {
      "text/html": [
       "<div>\n",
       "<style scoped>\n",
       "    .dataframe tbody tr th:only-of-type {\n",
       "        vertical-align: middle;\n",
       "    }\n",
       "\n",
       "    .dataframe tbody tr th {\n",
       "        vertical-align: top;\n",
       "    }\n",
       "\n",
       "    .dataframe thead th {\n",
       "        text-align: right;\n",
       "    }\n",
       "</style>\n",
       "<table border=\"1\" class=\"dataframe\">\n",
       "  <thead>\n",
       "    <tr style=\"text-align: right;\">\n",
       "      <th>sex</th>\n",
       "      <th>F</th>\n",
       "      <th>M</th>\n",
       "    </tr>\n",
       "    <tr>\n",
       "      <th>charge_type</th>\n",
       "      <th></th>\n",
       "      <th></th>\n",
       "    </tr>\n",
       "  </thead>\n",
       "  <tbody>\n",
       "    <tr>\n",
       "      <th>Fel</th>\n",
       "      <td>1948</td>\n",
       "      <td>6861</td>\n",
       "    </tr>\n",
       "    <tr>\n",
       "      <th>Misd</th>\n",
       "      <td>4260</td>\n",
       "      <td>14457</td>\n",
       "    </tr>\n",
       "  </tbody>\n",
       "</table>\n",
       "</div>"
      ],
      "text/plain": [
       "sex             F      M\n",
       "charge_type             \n",
       "Fel          1948   6861\n",
       "Misd         4260  14457"
      ]
     },
     "execution_count": 102,
     "metadata": {},
     "output_type": "execute_result"
    }
   ],
   "source": [
    "#pd.crosstab(index=arrests['charge_type'], columns=arrests['sex'])"
   ]
  }
 ],
 "metadata": {
  "kernelspec": {
   "display_name": "Python 3",
   "language": "python",
   "name": "python3"
  },
  "language_info": {
   "codemirror_mode": {
    "name": "ipython",
    "version": 3
   },
   "file_extension": ".py",
   "mimetype": "text/x-python",
   "name": "python",
   "nbconvert_exporter": "python",
   "pygments_lexer": "ipython3",
   "version": "3.8.9"
  },
  "vscode": {
   "interpreter": {
    "hash": "31f2aee4e71d21fbe5cf8b01ff0e069b9275f58929596ceb00d14d90e3e16cd6"
   }
  }
 },
 "nbformat": 4,
 "nbformat_minor": 2
}
